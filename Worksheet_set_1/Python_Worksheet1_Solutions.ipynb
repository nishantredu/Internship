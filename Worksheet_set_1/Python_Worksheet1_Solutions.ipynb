{
 "cells": [
  {
   "cell_type": "code",
   "execution_count": 2,
   "id": "c85d0c6b",
   "metadata": {},
   "outputs": [
    {
     "name": "stdout",
     "output_type": "stream",
     "text": [
      "1\n"
     ]
    }
   ],
   "source": [
    "#Question 1 Solution\n",
    "# Answer is option c - % operator\n",
    "# Example\n",
    "\n",
    "print(3%2)"
   ]
  },
  {
   "cell_type": "code",
   "execution_count": 3,
   "id": "f7c934d0",
   "metadata": {},
   "outputs": [
    {
     "name": "stdout",
     "output_type": "stream",
     "text": [
      "0\n"
     ]
    }
   ],
   "source": [
    "#Question 2 Solution\n",
    "#Answer is option b - 0\n",
    "\n",
    "print(2//3)"
   ]
  },
  {
   "cell_type": "code",
   "execution_count": 5,
   "id": "9c5dc9d9",
   "metadata": {},
   "outputs": [
    {
     "name": "stdout",
     "output_type": "stream",
     "text": [
      "24\n"
     ]
    }
   ],
   "source": [
    "#Question 3 Solution\n",
    "# << is a bitwise operator . It left shifts the binary represantaion\n",
    "# Answer is option c - 24\n",
    "print(6<<2)"
   ]
  },
  {
   "cell_type": "code",
   "execution_count": 6,
   "id": "80665c90",
   "metadata": {},
   "outputs": [
    {
     "name": "stdout",
     "output_type": "stream",
     "text": [
      "2\n"
     ]
    }
   ],
   "source": [
    "# Question 4 Solution\n",
    "# & is the AND Operator.The output will be 6 AND 2(110 AND 010) = 2(010).\n",
    "# Answer is option a - 2\n",
    "print(6&2)"
   ]
  },
  {
   "cell_type": "code",
   "execution_count": 7,
   "id": "222d083b",
   "metadata": {},
   "outputs": [
    {
     "name": "stdout",
     "output_type": "stream",
     "text": [
      "6\n"
     ]
    }
   ],
   "source": [
    "# Question 5 Solution\n",
    "# | is the OR Operator. The output will be 6 OR 2(110 OR 010) = 6(100).\n",
    "# Answer is option d - 6\n",
    "print(6|2)"
   ]
  },
  {
   "cell_type": "code",
   "execution_count": 12,
   "id": "ae6897c4",
   "metadata": {},
   "outputs": [
    {
     "name": "stdout",
     "output_type": "stream",
     "text": [
      "/-----With Error-----/\n",
      "Divison By Zero\n",
      "Task Done\n",
      "/------Without Error------/|\n",
      "Task Done\n"
     ]
    }
   ],
   "source": [
    "#Question 6 solution\n",
    "#Finally Keyword is used to exewcute code no matter if the try block raises an error or not\n",
    "\n",
    "# Answer is option c - the finally block will be executed no matter if the try block raises an error or not\n",
    "\n",
    "print('/-----With Error-----/')\n",
    "try:\n",
    "    6/0\n",
    "except ZeroDivisionError:\n",
    "    print('Divison By Zero')\n",
    "finally:\n",
    "    print('Task Done')\n",
    "    \n",
    "print('/------Without Error------/|')    \n",
    "try:\n",
    "    6/1\n",
    "except ZeroDivisionError:\n",
    "    print('Divison By Zero')\n",
    "finally:\n",
    "    print('Task Done')"
   ]
  },
  {
   "cell_type": "code",
   "execution_count": 14,
   "id": "83120bd9",
   "metadata": {},
   "outputs": [
    {
     "ename": "RuntimeError",
     "evalue": "No active exception to reraise",
     "output_type": "error",
     "traceback": [
      "\u001b[1;31m---------------------------------------------------------------------------\u001b[0m",
      "\u001b[1;31mRuntimeError\u001b[0m                              Traceback (most recent call last)",
      "\u001b[1;32m<ipython-input-14-4a049dd9e81d>\u001b[0m in \u001b[0;36m<module>\u001b[1;34m\u001b[0m\n\u001b[0;32m      3\u001b[0m \u001b[1;33m\u001b[0m\u001b[0m\n\u001b[0;32m      4\u001b[0m \u001b[1;32mif\u001b[0m \u001b[1;36m3\u001b[0m\u001b[1;33m<\u001b[0m\u001b[1;36m5\u001b[0m\u001b[1;33m:\u001b[0m\u001b[1;33m\u001b[0m\u001b[1;33m\u001b[0m\u001b[0m\n\u001b[1;32m----> 5\u001b[1;33m     \u001b[1;32mraise\u001b[0m\u001b[1;33m\u001b[0m\u001b[1;33m\u001b[0m\u001b[0m\n\u001b[0m",
      "\u001b[1;31mRuntimeError\u001b[0m: No active exception to reraise"
     ]
    }
   ],
   "source": [
    "# Question 7 solution\n",
    "# Raise Keyword is used to raise errors oin python if we meet a ceratin condition\n",
    "# Answer is option a - It is used to raise an exception\n",
    "\n",
    "if 3<5:\n",
    "    raise"
   ]
  },
  {
   "cell_type": "code",
   "execution_count": 16,
   "id": "ae555ea7",
   "metadata": {},
   "outputs": [
    {
     "name": "stdout",
     "output_type": "stream",
     "text": [
      "0\n",
      "1\n",
      "3\n",
      "6\n",
      "10\n",
      "15\n",
      "21\n",
      "28\n",
      "36\n",
      "45\n",
      "55\n",
      "66\n"
     ]
    }
   ],
   "source": [
    "# Question 8 Solution\n",
    "# Yield functions are used in defining generator functions.\n",
    "# Whenever we dont want to use the return keyword we use yield to get the output and the function will be running continously without breaking\n",
    "# Answer will be option c - \n",
    "def getadd(num):\n",
    "    x = 0\n",
    "    \n",
    "    for i in range(num):\n",
    "        yield x+i\n",
    "        x = x+i\n",
    "        \n",
    "        \n",
    "def printadd():\n",
    "    for num in getadd(12):\n",
    "        print(num)\n",
    "        \n",
    "printadd()"
   ]
  },
  {
   "cell_type": "code",
   "execution_count": 17,
   "id": "b3fc31a9",
   "metadata": {},
   "outputs": [
    {
     "ename": "SyntaxError",
     "evalue": "invalid syntax (<ipython-input-17-8d2e34ba6ea1>, line 7)",
     "output_type": "error",
     "traceback": [
      "\u001b[1;36m  File \u001b[1;32m\"<ipython-input-17-8d2e34ba6ea1>\"\u001b[1;36m, line \u001b[1;32m7\u001b[0m\n\u001b[1;33m    1abc = 3\u001b[0m\n\u001b[1;37m     ^\u001b[0m\n\u001b[1;31mSyntaxError\u001b[0m\u001b[1;31m:\u001b[0m invalid syntax\n"
     ]
    }
   ],
   "source": [
    "#Question 9 Solution\n",
    "#Correct Answers Option A and C \n",
    "# Variable names cannot start with numbers\n",
    "\n",
    "_abc = 2\n",
    "abc2 = 3\n",
    "1abc = 3"
   ]
  },
  {
   "cell_type": "code",
   "execution_count": 18,
   "id": "2ee1ad20",
   "metadata": {},
   "outputs": [],
   "source": [
    "#Question 10 solution \n",
    "#Look in is not a keyword in python"
   ]
  },
  {
   "cell_type": "code",
   "execution_count": 22,
   "id": "1995fdcc",
   "metadata": {},
   "outputs": [
    {
     "name": "stdout",
     "output_type": "stream",
     "text": [
      "120\n"
     ]
    }
   ],
   "source": [
    "# Question 11 Solution\n",
    "\n",
    "def factorial(num):\n",
    "    fact = 1\n",
    "    for i in range(2,num+1):\n",
    "        fact = fact*i\n",
    "        \n",
    "    return fact\n",
    "\n",
    "print(factorial(5))"
   ]
  },
  {
   "cell_type": "code",
   "execution_count": 26,
   "id": "136b87e9",
   "metadata": {},
   "outputs": [
    {
     "name": "stdout",
     "output_type": "stream",
     "text": [
      "True\n"
     ]
    }
   ],
   "source": [
    "# Quesion 12 Solution\n",
    "\n",
    "def prime_or_composite(num):\n",
    "    for i in range(2, num//2):\n",
    "        if num%i == 0:\n",
    "            return False\n",
    "    \n",
    "    return True\n",
    "\n",
    "print(prime_or_composite(17))"
   ]
  },
  {
   "cell_type": "code",
   "execution_count": 28,
   "id": "be0c2092",
   "metadata": {},
   "outputs": [
    {
     "name": "stdout",
     "output_type": "stream",
     "text": [
      "False\n"
     ]
    }
   ],
   "source": [
    "# Question 13 Solution\n",
    "# Palindrome String is a stirng which is same when read backwards\n",
    "\n",
    "def palindrome(string):\n",
    "    if string == string[::-1]:\n",
    "        return True\n",
    "    return False\n",
    "\n",
    "print(palindrome(\"abac\"))"
   ]
  },
  {
   "cell_type": "code",
   "execution_count": 32,
   "id": "000c1714",
   "metadata": {},
   "outputs": [
    {
     "name": "stdout",
     "output_type": "stream",
     "text": [
      "5.0\n"
     ]
    }
   ],
   "source": [
    "# Question 14 Solution\n",
    "# Assuming that the given two sides are the base and the prependicular\n",
    "import math\n",
    "def third_side(a, b):\n",
    "    c = a*a + b*b\n",
    "    return math.sqrt(c)\n",
    "\n",
    "print(third_side(3, 4))"
   ]
  },
  {
   "cell_type": "code",
   "execution_count": 33,
   "id": "4ad73b9d",
   "metadata": {},
   "outputs": [
    {
     "name": "stdout",
     "output_type": "stream",
     "text": [
      "a  :  1\n",
      "b  :  1\n",
      "c  :  3\n",
      "d  :  1\n"
     ]
    }
   ],
   "source": [
    "# Question 15 Solution\n",
    "#Character Frequency\n",
    "\n",
    "def char_frequency(string):\n",
    "    freq = {}\n",
    "    for c in string:\n",
    "        if c in freq:\n",
    "            freq[c] +=1\n",
    "        else:\n",
    "            freq[c] = 1\n",
    "    return freq\n",
    "\n",
    "frq = char_frequency(\"abcdcc\")\n",
    "for i in frq:\n",
    "    print(i, \" : \", frq[i] )\n"
   ]
  },
  {
   "cell_type": "code",
   "execution_count": null,
   "id": "63a1e2b8",
   "metadata": {},
   "outputs": [],
   "source": []
  }
 ],
 "metadata": {
  "kernelspec": {
   "display_name": "Python 3",
   "language": "python",
   "name": "python3"
  },
  "language_info": {
   "codemirror_mode": {
    "name": "ipython",
    "version": 3
   },
   "file_extension": ".py",
   "mimetype": "text/x-python",
   "name": "python",
   "nbconvert_exporter": "python",
   "pygments_lexer": "ipython3",
   "version": "3.8.8"
  }
 },
 "nbformat": 4,
 "nbformat_minor": 5
}
